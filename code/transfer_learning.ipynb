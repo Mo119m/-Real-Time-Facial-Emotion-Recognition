{
 "cells": [
  {
   "cell_type": "code",
   "execution_count": 2,
   "metadata": {},
   "outputs": [],
   "source": [
    "import os\n",
    "import pandas as pd\n",
    "from sklearn.preprocessing import LabelEncoder\n",
    "import torch\n",
    "\n",
    "def load_datasets(directory):\n",
    "    image_paths, labels = [], []\n",
    "    for label in os.listdir(directory):\n",
    "        for filename in os.listdir(os.path.join(directory, label)):\n",
    "            image_paths.append(os.path.join(directory, label, filename))\n",
    "            labels.append(label)\n",
    "    return image_paths, labels\n",
    "\n",
    "train_dir = \"../data/train\"\n",
    "test_dir = \"../data/test\"\n",
    "\n",
    "train_paths, train_labels = load_datasets(train_dir)\n",
    "test_paths, test_labels = load_datasets(test_dir)\n",
    "\n",
    "le = LabelEncoder()\n",
    "y_train = torch.tensor(le.fit_transform(train_labels), dtype=torch.long)\n",
    "y_test = torch.tensor(le.transform(test_labels), dtype=torch.long)\n",
    "label_names = le.classes_\n"
   ]
  },
  {
   "cell_type": "code",
   "execution_count": 3,
   "metadata": {},
   "outputs": [],
   "source": [
    "from transformers import AutoImageProcessor\n",
    "from PIL import Image\n",
    "\n",
    "model_name = \"trpakov/vit-face-expression\"\n",
    "processor = AutoImageProcessor.from_pretrained(model_name)\n",
    "\n",
    "def extract_vit_inputs(image_paths):\n",
    "    images = [Image.open(p).convert(\"RGB\") for p in image_paths]\n",
    "    inputs = processor(images=images, return_tensors=\"pt\")\n",
    "    return inputs[\"pixel_values\"]\n",
    "\n",
    "x_train = extract_vit_inputs(train_paths)\n",
    "x_test = extract_vit_inputs(test_paths)\n"
   ]
  },
  {
   "cell_type": "code",
   "execution_count": 4,
   "metadata": {},
   "outputs": [],
   "source": [
    "from torch.utils.data import TensorDataset, DataLoader\n",
    "\n",
    "train_dataset = TensorDataset(x_train, y_train)\n",
    "test_dataset = TensorDataset(x_test, y_test)\n",
    "\n",
    "train_loader = DataLoader(train_dataset, batch_size=16, shuffle=True)\n",
    "test_loader = DataLoader(test_dataset, batch_size=16)\n"
   ]
  },
  {
   "cell_type": "code",
   "execution_count": 5,
   "metadata": {},
   "outputs": [
    {
     "name": "stderr",
     "output_type": "stream",
     "text": [
      "/Users/mo/anaconda3/lib/python3.11/site-packages/transformers/optimization.py:640: FutureWarning: This implementation of AdamW is deprecated and will be removed in a future version. Use the PyTorch implementation torch.optim.AdamW instead, or set `no_deprecation_warning=True` to disable this warning\n",
      "  warnings.warn(\n"
     ]
    }
   ],
   "source": [
    "from transformers import AutoModelForImageClassification, AdamW\n",
    "import torch.nn as nn\n",
    "\n",
    "device = torch.device(\"cuda\" if torch.cuda.is_available() else \"cpu\")\n",
    "\n",
    "model = AutoModelForImageClassification.from_pretrained(model_name)\n",
    "for param in model.vit.parameters():\n",
    "    param.requires_grad = False  # freeze the last mlp part\n",
    "model.to(device)\n",
    "\n",
    "optimizer = AdamW(model.parameters(), lr=2e-5)\n",
    "criterion = nn.CrossEntropyLoss()\n"
   ]
  },
  {
   "cell_type": "code",
   "execution_count": 7,
   "metadata": {},
   "outputs": [
    {
     "name": "stderr",
     "output_type": "stream",
     "text": [
      "Epoch 1: 100%|██████████| 1795/1795 [23:22<00:00,  1.28it/s]\n"
     ]
    },
    {
     "name": "stdout",
     "output_type": "stream",
     "text": [
      "Train Acc: 0.9895\n"
     ]
    }
   ],
   "source": [
    "from tqdm import tqdm\n",
    "import copy\n",
    "\n",
    "best_val_acc = 0.0\n",
    "patience = 3\n",
    "patience_counter = 0\n",
    "best_model_path = \"finetuned_vit.pt\"\n",
    "\n",
    "for epoch in range(20):\n",
    "    model.train()\n",
    "    correct, total = 0, 0\n",
    "\n",
    "    for images, labels in tqdm(train_loader, desc=f\"Epoch {epoch+1}\"):\n",
    "        images, labels = images.to(device), labels.to(device)\n",
    "        outputs = model(pixel_values=images).logits\n",
    "        loss = criterion(outputs, labels)\n",
    "\n",
    "        loss.backward()\n",
    "        optimizer.step()\n",
    "        optimizer.zero_grad()\n",
    "\n",
    "        preds = outputs.argmax(dim=1)\n",
    "        correct += (preds == labels).sum().item()\n",
    "        total += labels.size(0)\n",
    "\n",
    "    train_acc = correct / total\n",
    "    print(f\"Train Acc: {train_acc:.4f}\")\n",
    "\n",
    "    model.eval()\n",
    "    correct, total = 0, 0\n",
    "    with torch.no_grad():\n",
    "        for images, labels in test_loader:\n",
    "            images, labels = images.to(device), labels.to(device)\n",
    "            outputs = model(pixel_values=images).logits\n",
    "            preds = outputs.argmax(dim=1)\n",
    "            correct += (preds == labels).sum().item()\n",
    "            total += labels.size(0)\n",
    "    val_acc = correct / total\n",
    "    print(f\"Val Acc: {val_acc:.4f}\")\n",
    "\n",
    "    if val_acc > best_val_acc:\n",
    "        best_val_acc = val_acc\n",
    "        patience_counter = 0\n",
    "        torch.save(model.state_dict(), best_model_path)\n",
    "        print(\"save model\")\n",
    "    else:\n",
    "        patience_counter += 1\n",
    "        if patience_counter >= patience:\n",
    "            print(\"Early Stopping\")\n",
    "            break\n"
   ]
  },
  {
   "cell_type": "code",
   "execution_count": 6,
   "metadata": {},
   "outputs": [
    {
     "ename": "SyntaxError",
     "evalue": "unexpected character after line continuation character (719331269.py, line 17)",
     "output_type": "error",
     "traceback": [
      "\u001b[0;36m  Cell \u001b[0;32mIn[6], line 17\u001b[0;36m\u001b[0m\n\u001b[0;31m    plt.title(f\\\"Pred: {label_names[preds[i]]}\\\\nTrue: {label_names[y_tensor[i].item()]}\\\")\u001b[0m\n\u001b[0m                ^\u001b[0m\n\u001b[0;31mSyntaxError\u001b[0m\u001b[0;31m:\u001b[0m unexpected character after line continuation character\n"
     ]
    }
   ],
   "source": [
    "import matplotlib.pyplot as plt\n",
    "\n",
    "def visualize_predictions(x_tensor, y_tensor, label_names, model, num_images=8):\n",
    "    model.eval()\n",
    "    with torch.no_grad():\n",
    "        x_tensor = x_tensor[:num_images].to(device)\n",
    "        y_tensor = y_tensor[:num_images].to(device)\n",
    "        outputs = model(pixel_values=x_tensor).logits\n",
    "        preds = outputs.argmax(dim=1).cpu().numpy()\n",
    "\n",
    "    plt.figure(figsize=(15, 6))\n",
    "    for i in range(num_images):\n",
    "        img = x_tensor[i].cpu().permute(1, 2, 0).numpy()\n",
    "        img = (img - img.min()) / (img.max() - img.min())  # 归一化\n",
    "        plt.subplot(2, (num_images + 1) // 2, i + 1)\n",
    "        plt.imshow(img)\n",
    "        plt.axis(\"off\")\n",
    "        plt.title(f\"Pred: {label_names[preds[i]]}\\nTrue: {label_names[y_tensor[i].item()]}\")\n",
    "    plt.tight_layout()\n",
    "    plt.show()\n",
    "\n",
    "model.load_state_dict(torch.load(\"finetuned_vit.pt\"))\n",
    "\n",
    "#  visualize the first 8 pictures\n",
    "visualize_predictions(x_test, y_test, label_names, model, num_images=8)\n",
    "\n"
   ]
  },
  {
   "cell_type": "code",
   "execution_count": null,
   "metadata": {},
   "outputs": [],
   "source": []
  }
 ],
 "metadata": {
  "kernelspec": {
   "display_name": "base",
   "language": "python",
   "name": "python3"
  },
  "language_info": {
   "codemirror_mode": {
    "name": "ipython",
    "version": 3
   },
   "file_extension": ".py",
   "mimetype": "text/x-python",
   "name": "python",
   "nbconvert_exporter": "python",
   "pygments_lexer": "ipython3",
   "version": "3.11.11"
  }
 },
 "nbformat": 4,
 "nbformat_minor": 2
}
