{
 "cells": [
  {
   "cell_type": "code",
   "execution_count": 16,
   "metadata": {},
   "outputs": [],
   "source": [
    "import os\n",
    "import pandas as pd\n",
    "import torch\n",
    "import torch.nn as nn\n",
    "import torch.nn.functional as F\n",
    "from torchvision import transforms\n",
    "from torch.utils.data import DataLoader, TensorDataset\n",
    "from PIL import Image\n",
    "from sklearn.preprocessing import LabelEncoder\n",
    "import matplotlib.pyplot as plt"
   ]
  },
  {
   "cell_type": "code",
   "execution_count": 17,
   "metadata": {},
   "outputs": [],
   "source": [
    "def load_datasets(directory):\n",
    "    image_paths = []\n",
    "    labels = []\n",
    "    for label in os.listdir(directory):\n",
    "        for filename in os.listdir(os.path.join(directory, label)):\n",
    "            image_paths.append(os.path.join(directory, label, filename))\n",
    "            labels.append(label)\n",
    "    return image_paths, labels\n",
    "\n",
    "train_directory = '../data/train/'\n",
    "test_directory = '../data/test/'\n",
    "\n"
   ]
  },
  {
   "cell_type": "code",
   "execution_count": 18,
   "metadata": {},
   "outputs": [],
   "source": [
    "train = pd.DataFrame()\n",
    "train['image'], train['label'] = load_datasets(train_directory)\n",
    "train = train.sample(frac=1).reset_index(drop=True)\n",
    "\n",
    "test = pd.DataFrame()\n",
    "test['image'], test['label'] = load_datasets(test_directory)\n",
    "test = test.sample(frac=1).reset_index(drop=True)"
   ]
  },
  {
   "cell_type": "code",
   "execution_count": 19,
   "metadata": {},
   "outputs": [],
   "source": [
    "transform = transforms.Compose([\n",
    "    transforms.Grayscale(),       \n",
    "    transforms.Resize((48, 48)),  \n",
    "    transforms.ToTensor(),        \n",
    "    transforms.Normalize((0.5,), (0.5,))  \n",
    "])\n"
   ]
  },
  {
   "cell_type": "markdown",
   "metadata": {},
   "source": []
  },
  {
   "cell_type": "code",
   "execution_count": 20,
   "metadata": {},
   "outputs": [],
   "source": [
    "def extract_features(image_paths):\n",
    "    features = []\n",
    "    for path in image_paths:\n",
    "        img = Image.open(path).convert('RGB')\n",
    "        img = transform(img)\n",
    "        features.append(img)\n",
    "    return torch.stack(features)\n",
    "\n",
    "train_features = extract_features(train['image'])\n",
    "test_features = extract_features(test['image'])\n",
    "\n",
    "x_train = train_features\n",
    "x_test = test_features\n"
   ]
  },
  {
   "cell_type": "code",
   "execution_count": 21,
   "metadata": {},
   "outputs": [],
   "source": [
    "le = LabelEncoder()\n",
    "le.fit(train['label'])\n",
    "y_train = le.transform(train['label'])\n",
    "y_test = le.transform(test['label'])\n",
    "\n",
    "y_train = torch.tensor(y_train, dtype=torch.long)\n",
    "y_test = torch.tensor(y_test, dtype=torch.long)"
   ]
  },
  {
   "cell_type": "code",
   "execution_count": 22,
   "metadata": {},
   "outputs": [],
   "source": [
    "class MyModel(nn.Module):\n",
    "    def __init__(self, num_classes):\n",
    "        super(MyModel, self).__init__()\n",
    "        self.conv1 = nn.Conv2d(1, 64, kernel_size=3, padding=1)\n",
    "        self.bn1 = nn.BatchNorm2d(64)\n",
    "\n",
    "        self.conv2 = nn.Conv2d(64, 128, kernel_size=3, padding=1)\n",
    "        self.bn2 = nn.BatchNorm2d(128)\n",
    "\n",
    "        self.conv3 = nn.Conv2d(128, 256, kernel_size=3, padding=1)\n",
    "        self.bn3 = nn.BatchNorm2d(256)\n",
    "\n",
    "        self.conv4 = nn.Conv2d(256, 512, kernel_size=3, padding=1)\n",
    "        self.bn4 = nn.BatchNorm2d(512)\n",
    "\n",
    "        self.pool = nn.MaxPool2d(2, 2)\n",
    "        self.dropout = nn.Dropout(0.4)\n",
    "\n",
    "        self.flatten_dim = 512 * 3 * 3  \n",
    "        self.fc1 = nn.Linear(self.flatten_dim, 512)\n",
    "        self.fc2 = nn.Linear(512, 256)\n",
    "        self.fc3 = nn.Linear(256, num_classes)\n",
    "        \n",
    "    def forward(self, x):\n",
    "        x = self.pool(F.relu(self.bn1(self.conv1(x))))\n",
    "        x = self.pool(F.relu(self.bn2(self.conv2(x))))\n",
    "        x = self.pool(F.relu(self.bn3(self.conv3(x))))\n",
    "        x = self.pool(F.relu(self.bn4(self.conv4(x))))\n",
    "        x = self.dropout(x)\n",
    "        x = x.view(x.size(0), -1)\n",
    "        x = F.relu(self.fc1(x))\n",
    "        x = self.dropout(x)\n",
    "        x = F.relu(self.fc2(x))\n",
    "        x = self.fc3(x)\n",
    "        return x\n",
    "\n",
    "\n",
    "        \n",
    "\n"
   ]
  },
  {
   "cell_type": "code",
   "execution_count": 23,
   "metadata": {},
   "outputs": [],
   "source": [
    "device = torch.device('cuda' if torch.cuda.is_available() else 'cpu')\n",
    "model = MyModel(num_classes=7).to(device)\n",
    "\n",
    "criterion = nn.CrossEntropyLoss()\n",
    "optimizer = torch.optim.Adam(model.parameters(), lr=0.001)\n",
    "\n",
    "train_dataset = TensorDataset(x_train, y_train)\n",
    "test_dataset = TensorDataset(x_test, y_test)\n",
    "train_loader = DataLoader(train_dataset, batch_size=128, shuffle=True)\n",
    "test_loader = DataLoader(test_dataset, batch_size=128, shuffle=False)"
   ]
  },
  {
   "cell_type": "code",
   "execution_count": 24,
   "metadata": {},
   "outputs": [
    {
     "name": "stdout",
     "output_type": "stream",
     "text": [
      "Epoch [1/50], Loss: 1.6657, Accuracy: 42.03%\n",
      "Epoch [2/50], Loss: 1.3744, Accuracy: 42.81%\n",
      "Epoch [3/50], Loss: 1.2531, Accuracy: 53.50%\n",
      "Epoch [4/50], Loss: 1.1731, Accuracy: 54.60%\n",
      "Epoch [5/50], Loss: 1.1045, Accuracy: 53.69%\n",
      "Epoch [6/50], Loss: 1.0445, Accuracy: 57.66%\n",
      "Epoch [7/50], Loss: 0.9745, Accuracy: 56.45%\n",
      "Epoch [8/50], Loss: 0.9174, Accuracy: 59.64%\n",
      "Epoch [9/50], Loss: 0.8413, Accuracy: 59.96%\n",
      "Epoch [10/50], Loss: 0.7793, Accuracy: 58.97%\n",
      "Epoch [11/50], Loss: 0.6975, Accuracy: 56.20%\n",
      "Epoch [12/50], Loss: 0.6281, Accuracy: 60.43%\n",
      "Epoch [13/50], Loss: 0.5667, Accuracy: 58.39%\n",
      "Epoch [14/50], Loss: 0.4961, Accuracy: 59.11%\n",
      "Epoch [15/50], Loss: 0.4407, Accuracy: 60.28%\n",
      "Epoch [16/50], Loss: 0.3822, Accuracy: 60.31%\n",
      "Epoch [17/50], Loss: 0.3338, Accuracy: 60.99%\n",
      "Epoch [18/50], Loss: 0.2913, Accuracy: 58.92%\n",
      "Epoch [19/50], Loss: 0.2618, Accuracy: 58.30%\n",
      "Epoch [20/50], Loss: 0.2362, Accuracy: 60.18%\n",
      "Epoch [21/50], Loss: 0.2148, Accuracy: 61.13%\n",
      "Epoch [22/50], Loss: 0.1851, Accuracy: 61.12%\n",
      "Epoch [23/50], Loss: 0.1656, Accuracy: 61.12%\n",
      "Epoch [24/50], Loss: 0.1586, Accuracy: 61.20%\n",
      "Epoch [25/50], Loss: 0.1490, Accuracy: 61.08%\n",
      "Epoch [26/50], Loss: 0.1291, Accuracy: 60.59%\n",
      "Epoch [27/50], Loss: 0.1250, Accuracy: 59.88%\n",
      "Epoch [28/50], Loss: 0.1108, Accuracy: 59.82%\n",
      "Epoch [29/50], Loss: 0.1163, Accuracy: 60.02%\n",
      "Epoch [30/50], Loss: 0.1078, Accuracy: 61.01%\n"
     ]
    }
   ],
   "source": [
    "train_losses = []\n",
    "test_accuracies = []\n",
    "\n",
    "for epoch in range(1, 51):\n",
    "    model.train()\n",
    "    total_loss = 0\n",
    "    for images, labels in train_loader:\n",
    "        images, labels = images.to(device), labels.to(device)\n",
    "        outputs = model(images)\n",
    "        loss = criterion(outputs, labels)\n",
    "\n",
    "        optimizer.zero_grad()\n",
    "        loss.backward()\n",
    "        optimizer.step()\n",
    "\n",
    "        total_loss += loss.item()\n",
    "\n",
    "    avg_loss = total_loss / len(train_loader)\n",
    "    train_losses.append(avg_loss)\n",
    "\n",
    "    model.eval()\n",
    "    correct = 0\n",
    "    total = 0\n",
    "    with torch.no_grad():\n",
    "        for images, labels in test_loader:\n",
    "            images, labels = images.to(device), labels.to(device)\n",
    "            outputs = model(images)\n",
    "            _, predicted = torch.max(outputs.data, 1)\n",
    "            total += labels.size(0)\n",
    "            correct += (predicted == labels).sum().item()\n",
    "\n",
    "    accuracy = 100 * correct / total\n",
    "    test_accuracies.append(accuracy)\n",
    "\n",
    "    print(f'Epoch [{epoch}/50], Loss: {avg_loss:.4f}, Accuracy: {accuracy:.2f}%')\n"
   ]
  },
  {
   "cell_type": "code",
   "execution_count": null,
   "metadata": {},
   "outputs": [],
   "source": [
    "import matplotlib.pyplot as plt\n",
    "\n",
    "epochs = range(1, 51)\n",
    "\n",
    "plt.figure(figsize=(12, 5))\n",
    "\n",
    "# Accuracy plot\n",
    "plt.subplot(1, 2, 1)\n",
    "plt.plot(epochs, test_accuracies, 'r', label='Test Accuracy')\n",
    "plt.title('Test Accuracy over Epochs')\n",
    "plt.xlabel('Epoch')\n",
    "plt.ylabel('Accuracy (%)')\n",
    "plt.legend()\n",
    "\n",
    "# Loss plot\n",
    "plt.subplot(1, 2, 2)\n",
    "plt.plot(epochs, train_losses, 'b', label='Training Loss')\n",
    "plt.title('Training Loss over Epochs')\n",
    "plt.xlabel('Epoch')\n",
    "plt.ylabel('Loss')\n",
    "plt.legend()\n",
    "\n",
    "plt.tight_layout()\n",
    "plt.show()\n"
   ]
  },
  {
   "cell_type": "code",
   "execution_count": null,
   "metadata": {},
   "outputs": [],
   "source": []
  }
 ],
 "metadata": {
  "kernelspec": {
   "display_name": "Python 3 (ipykernel)",
   "language": "python",
   "name": "python3"
  },
  "language_info": {
   "codemirror_mode": {
    "name": "ipython",
    "version": 3
   },
   "file_extension": ".py",
   "mimetype": "text/x-python",
   "name": "python",
   "nbconvert_exporter": "python",
   "pygments_lexer": "ipython3",
   "version": "3.11.11"
  }
 },
 "nbformat": 4,
 "nbformat_minor": 4
}
