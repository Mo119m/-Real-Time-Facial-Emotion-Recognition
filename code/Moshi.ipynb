{
 "cells": [
  {
   "cell_type": "code",
   "execution_count": 32,
   "metadata": {},
   "outputs": [],
   "source": [
    "import pandas as pd\n",
    "import os\n",
    "import numpy as np\n",
    "import matplotlib.pyplot as plt\n",
    "import torch\n",
    "import torch.nn as nn\n",
    "import torch.nn.functional as F\n",
    "from torch.utils.data import DataLoader, TensorDataset\n",
    "from torchvision import transforms\n",
    "from PIL import Image\n",
    "from torchvision import transforms\n"
   ]
  },
  {
   "cell_type": "code",
   "execution_count": 4,
   "metadata": {},
   "outputs": [],
   "source": [
    "test_directory = '../data/test/'\n",
    "train_directory = '../data/train/'\n"
   ]
  },
  {
   "cell_type": "markdown",
   "metadata": {},
   "source": []
  },
  {
   "cell_type": "code",
   "execution_count": 5,
   "metadata": {},
   "outputs": [],
   "source": [
    "directory = '../data/test/'\n",
    "def load_datasets(directory):\n",
    "    image_paths = []\n",
    "    labels = []\n",
    "    for label in os.listdir(directory):\n",
    "        for filename in os.listdir(directory+label):\n",
    "            image_path = os.path.join(directory,label,filename)\n",
    "            image_paths.append(image_path)\n",
    "            labels.append(label)\n",
    "            #print(label,'loaded complete')\n",
    "    return (image_paths,labels)\n"
   ]
  },
  {
   "cell_type": "code",
   "execution_count": 6,
   "metadata": {},
   "outputs": [],
   "source": [
    "train = pd.DataFrame()\n",
    "train['image'],train['label'] = load_datasets(train_directory)"
   ]
  },
  {
   "cell_type": "code",
   "execution_count": 7,
   "metadata": {},
   "outputs": [
    {
     "data": {
      "text/html": [
       "<div>\n",
       "<style scoped>\n",
       "    .dataframe tbody tr th:only-of-type {\n",
       "        vertical-align: middle;\n",
       "    }\n",
       "\n",
       "    .dataframe tbody tr th {\n",
       "        vertical-align: top;\n",
       "    }\n",
       "\n",
       "    .dataframe thead th {\n",
       "        text-align: right;\n",
       "    }\n",
       "</style>\n",
       "<table border=\"1\" class=\"dataframe\">\n",
       "  <thead>\n",
       "    <tr style=\"text-align: right;\">\n",
       "      <th></th>\n",
       "      <th>image</th>\n",
       "      <th>label</th>\n",
       "    </tr>\n",
       "  </thead>\n",
       "  <tbody>\n",
       "    <tr>\n",
       "      <th>0</th>\n",
       "      <td>../data/train/angry/Training_26524970.jpg</td>\n",
       "      <td>angry</td>\n",
       "    </tr>\n",
       "    <tr>\n",
       "      <th>1</th>\n",
       "      <td>../data/train/happy/Training_55301252.jpg</td>\n",
       "      <td>happy</td>\n",
       "    </tr>\n",
       "    <tr>\n",
       "      <th>2</th>\n",
       "      <td>../data/train/happy/Training_33087162.jpg</td>\n",
       "      <td>happy</td>\n",
       "    </tr>\n",
       "    <tr>\n",
       "      <th>3</th>\n",
       "      <td>../data/train/happy/Training_6699067.jpg</td>\n",
       "      <td>happy</td>\n",
       "    </tr>\n",
       "    <tr>\n",
       "      <th>4</th>\n",
       "      <td>../data/train/angry/Training_60607708.jpg</td>\n",
       "      <td>angry</td>\n",
       "    </tr>\n",
       "  </tbody>\n",
       "</table>\n",
       "</div>"
      ],
      "text/plain": [
       "                                       image  label\n",
       "0  ../data/train/angry/Training_26524970.jpg  angry\n",
       "1  ../data/train/happy/Training_55301252.jpg  happy\n",
       "2  ../data/train/happy/Training_33087162.jpg  happy\n",
       "3   ../data/train/happy/Training_6699067.jpg  happy\n",
       "4  ../data/train/angry/Training_60607708.jpg  angry"
      ]
     },
     "execution_count": 7,
     "metadata": {},
     "output_type": "execute_result"
    }
   ],
   "source": [
    "train = train.sample(frac = 1).reset_index(drop=True)\n",
    "train.head()"
   ]
  },
  {
   "cell_type": "code",
   "execution_count": 8,
   "metadata": {},
   "outputs": [],
   "source": [
    "test  = pd.DataFrame()\n",
    "test['image'],test['label'] = load_datasets(test_directory)"
   ]
  },
  {
   "cell_type": "code",
   "execution_count": 9,
   "metadata": {},
   "outputs": [
    {
     "data": {
      "text/html": [
       "<div>\n",
       "<style scoped>\n",
       "    .dataframe tbody tr th:only-of-type {\n",
       "        vertical-align: middle;\n",
       "    }\n",
       "\n",
       "    .dataframe tbody tr th {\n",
       "        vertical-align: top;\n",
       "    }\n",
       "\n",
       "    .dataframe thead th {\n",
       "        text-align: right;\n",
       "    }\n",
       "</style>\n",
       "<table border=\"1\" class=\"dataframe\">\n",
       "  <thead>\n",
       "    <tr style=\"text-align: right;\">\n",
       "      <th></th>\n",
       "      <th>image</th>\n",
       "      <th>label</th>\n",
       "    </tr>\n",
       "  </thead>\n",
       "  <tbody>\n",
       "    <tr>\n",
       "      <th>0</th>\n",
       "      <td>../data/test/happy/PrivateTest_30557630.jpg</td>\n",
       "      <td>happy</td>\n",
       "    </tr>\n",
       "    <tr>\n",
       "      <th>1</th>\n",
       "      <td>../data/test/happy/PrivateTest_33232827.jpg</td>\n",
       "      <td>happy</td>\n",
       "    </tr>\n",
       "    <tr>\n",
       "      <th>2</th>\n",
       "      <td>../data/test/neutral/PrivateTest_73643339.jpg</td>\n",
       "      <td>neutral</td>\n",
       "    </tr>\n",
       "    <tr>\n",
       "      <th>3</th>\n",
       "      <td>../data/test/sad/PublicTest_18104359.jpg</td>\n",
       "      <td>sad</td>\n",
       "    </tr>\n",
       "    <tr>\n",
       "      <th>4</th>\n",
       "      <td>../data/test/fear/PublicTest_13590004.jpg</td>\n",
       "      <td>fear</td>\n",
       "    </tr>\n",
       "  </tbody>\n",
       "</table>\n",
       "</div>"
      ],
      "text/plain": [
       "                                           image    label\n",
       "0    ../data/test/happy/PrivateTest_30557630.jpg    happy\n",
       "1    ../data/test/happy/PrivateTest_33232827.jpg    happy\n",
       "2  ../data/test/neutral/PrivateTest_73643339.jpg  neutral\n",
       "3       ../data/test/sad/PublicTest_18104359.jpg      sad\n",
       "4      ../data/test/fear/PublicTest_13590004.jpg     fear"
      ]
     },
     "execution_count": 9,
     "metadata": {},
     "output_type": "execute_result"
    }
   ],
   "source": [
    "test = test.sample(frac = 1).reset_index(drop = True)\n",
    "test.head()"
   ]
  },
  {
   "cell_type": "code",
   "execution_count": 10,
   "metadata": {},
   "outputs": [
    {
     "data": {
      "text/plain": [
       "<matplotlib.image.AxesImage at 0x1347df2d0>"
      ]
     },
     "execution_count": 10,
     "metadata": {},
     "output_type": "execute_result"
    },
    {
     "data": {
      "image/png": "[encoded data removed]",
      "text/plain": [
       "<Figure size 640x480 with 1 Axes>"
      ]
     },
     "metadata": {},
     "output_type": "display_data"
    }
   ],
   "source": [
    "img = Image.open(train['image'][0])\n",
    "plt.imshow(img,cmap = 'gray')"
   ]
  },
  {
   "cell_type": "code",
   "execution_count": 11,
   "metadata": {},
   "outputs": [
    {
     "data": {
      "text/plain": [
       "<matplotlib.image.AxesImage at 0x165f2e4d0>"
      ]
     },
     "execution_count": 11,
     "metadata": {},
     "output_type": "execute_result"
    },
    {
     "data": {
      "image/png": "[encoded data removed]",
      "text/plain": [
       "<Figure size 640x480 with 1 Axes>"
      ]
     },
     "metadata": {},
     "output_type": "display_data"
    }
   ],
   "source": [
    "img = Image.open(train['image'][1])\n",
    "plt.imshow(img,cmap='gray')"
   ]
  },
  {
   "cell_type": "code",
   "execution_count": 12,
   "metadata": {},
   "outputs": [],
   "source": [
    "def extract_features(image_paths):\n",
    "    transforms_pipeline = transforms.Compose([\n",
    "        transforms.Grayscale(),\n",
    "        transforms.Resize((48,48)),\n",
    "        transforms.ToTensor()])\n",
    "\n",
    "    features = []\n",
    "    for path in image_paths:\n",
    "        img = Image.open(path).convert('RGB')\n",
    "        img = transforms_pipeline(img)\n",
    "        features.append(img)\n",
    "    \n",
    "    features = torch.stack(features)\n",
    "    return features"
   ]
  },
  {
   "cell_type": "code",
   "execution_count": 13,
   "metadata": {},
   "outputs": [],
   "source": [
    "train_features = extract_features(train['image'])\n",
    "test_features = extract_features(test['image'])"
   ]
  },
  {
   "cell_type": "code",
   "execution_count": 14,
   "metadata": {},
   "outputs": [],
   "source": [
    "x_train = train_features/255.0\n",
    "x_test = test_features/255.0"
   ]
  },
  {
   "cell_type": "code",
   "execution_count": 15,
   "metadata": {},
   "outputs": [
    {
     "name": "stdout",
     "output_type": "stream",
     "text": [
      "tensor([0, 3, 3,  ..., 5, 5, 5])\n"
     ]
    }
   ],
   "source": [
    "from sklearn.preprocessing import LabelEncoder\n",
    "le = LabelEncoder()\n",
    "le.fit(train['label'])\n",
    "y_train = le.transform(train['label'])\n",
    "y_test = le.transform(test['label'])\n",
    "\n",
    "y_train = torch.tensor(y_train,dtype = torch.long)\n",
    "y_test= torch.tensor(y_test,dtype = torch.long)\n",
    "\n",
    "print(y_train)"
   ]
  },
  {
   "cell_type": "code",
   "execution_count": 36,
   "metadata": {},
   "outputs": [
    {
     "name": "stdout",
     "output_type": "stream",
     "text": [
      "torch.Size([28709, 1, 48, 48])\n"
     ]
    }
   ],
   "source": [
    "input_shape = (48,48,1)\n",
    "output_class = 7\n",
    "print(x_train.shape)\n"
   ]
  },
  {
   "cell_type": "code",
   "execution_count": 41,
   "metadata": {},
   "outputs": [],
   "source": [
    "class MyModel(nn.Module):\n",
    "    def __init__(self, num_classes):\n",
    "        super(MyModel, self).__init__()\n",
    "\n",
    "        self.conv1 = nn.Conv2d(1, 64, kernel_size=3, padding=1)\n",
    "        self.bn1 = nn.BatchNorm2d(64)\n",
    "\n",
    "        self.conv2 = nn.Conv2d(64, 128, kernel_size=3, padding=1)\n",
    "        self.bn2 = nn.BatchNorm2d(128)\n",
    "\n",
    "        self.conv3 = nn.Conv2d(128, 256, kernel_size=3, padding=1)\n",
    "        self.bn3 = nn.BatchNorm2d(256)\n",
    "\n",
    "        self.conv4 = nn.Conv2d(256, 512, kernel_size=3, padding=1)\n",
    "        self.bn4 = nn.BatchNorm2d(512)\n",
    "\n",
    "        self.pool = nn.MaxPool2d(2, 2)  \n",
    "        self.dropout = nn.Dropout(0.4)\n",
    "\n",
    "        self.fc1 = nn.Linear(1, 512)  \n",
    "        self.fc2 = nn.Linear(512, 256)\n",
    "        self.fc3 = nn.Linear(256, num_classes)\n",
    "\n",
    "        self.flatten_dim = None  \n",
    "\n",
    "    def forward(self, x):\n",
    "        x = self.pool(F.relu(self.bn1(self.conv1(x))))\n",
    "        x = self.pool(F.relu(self.bn2(self.conv2(x))))\n",
    "        x = self.pool(F.relu(self.bn3(self.conv3(x))))\n",
    "        x = self.pool(F.relu(self.bn4(self.conv4(x))))\n",
    "        x = self.dropout(x)\n",
    "\n",
    "        if self.flatten_dim is None:\n",
    "            self.flatten_dim = x.shape[1] * x.shape[2] * x.shape[3]\n",
    "            self.fc1 = nn.Linear(self.flatten_dim, 512).to(x.device)\n",
    "\n",
    "        x = x.view(x.size(0), -1)  \n",
    "        x = F.relu(self.fc1(x))\n",
    "        x = self.dropout(x)\n",
    "        x = F.relu(self.fc2(x))\n",
    "        x = self.fc3(x)\n",
    "\n",
    "        return x\n",
    "\n",
    "        \n"
   ]
  },
  {
   "cell_type": "code",
   "execution_count": 42,
   "metadata": {},
   "outputs": [],
   "source": [
    "model = MyModel(num_classes=7)\n",
    "device = torch.device('cuda' if torch.cuda.is_available() else 'cpu')\n",
    "model = model.to(device)\n",
    "\n",
    "criterion = nn.CrossEntropyLoss()\n",
    "optimizer = torch.optim.Adam(model.parameters(),lr = 0.001)\n",
    "\n",
    "train_dataset = TensorDataset(x_train,y_train)\n",
    "test_dataset = TensorDataset(x_test,y_test)\n",
    "train_loader = DataLoader(train_dataset,batch_size = 128,shuffle = True)\n",
    "test_loader = DataLoader(test_dataset, batch_size = 128,shuffle = True)"
   ]
  },
  {
   "cell_type": "code",
   "execution_count": 43,
   "metadata": {},
   "outputs": [
    {
     "name": "stdout",
     "output_type": "stream",
     "text": [
      "Epoch[1/50],Accuracy:18.807\n",
      "Epoch[2/50],Accuracy:13.346\n",
      "Epoch[3/50],Accuracy:13.346\n",
      "Epoch[4/50],Accuracy:13.332\n",
      "Epoch[5/50],Accuracy:13.346\n",
      "Epoch[6/50],Accuracy:28.086\n",
      "Epoch[7/50],Accuracy:18.975\n",
      "Epoch[8/50],Accuracy:13.346\n",
      "Epoch[9/50],Accuracy:15.84\n",
      "Epoch[10/50],Accuracy:17.456\n",
      "Epoch[11/50],Accuracy:17.373\n",
      "Epoch[12/50],Accuracy:18.292\n",
      "Epoch[13/50],Accuracy:17.345\n",
      "Epoch[14/50],Accuracy:15.687\n",
      "Epoch[15/50],Accuracy:17.373\n",
      "Epoch[16/50],Accuracy:17.373\n",
      "Epoch[17/50],Accuracy:14.433\n",
      "Epoch[18/50],Accuracy:14.266\n",
      "Epoch[19/50],Accuracy:17.498\n",
      "Epoch[20/50],Accuracy:17.373\n",
      "Epoch[21/50],Accuracy:16.509\n",
      "Epoch[22/50],Accuracy:17.052\n",
      "Epoch[23/50],Accuracy:14.266\n",
      "Epoch[24/50],Accuracy:17.233\n",
      "Epoch[25/50],Accuracy:17.233\n",
      "Epoch[26/50],Accuracy:17.414\n",
      "Epoch[27/50],Accuracy:14.266\n",
      "Epoch[28/50],Accuracy:18.654\n",
      "Epoch[29/50],Accuracy:17.595\n",
      "Epoch[30/50],Accuracy:18.041\n",
      "Epoch[31/50],Accuracy:17.359\n",
      "Epoch[32/50],Accuracy:17.261\n",
      "Epoch[33/50],Accuracy:17.777\n",
      "Epoch[34/50],Accuracy:15.924\n",
      "Epoch[35/50],Accuracy:17.386\n",
      "Epoch[36/50],Accuracy:16.3\n",
      "Epoch[37/50],Accuracy:17.749\n",
      "Epoch[38/50],Accuracy:23.725\n",
      "Epoch[39/50],Accuracy:14.14\n",
      "Epoch[40/50],Accuracy:17.79\n",
      "Epoch[41/50],Accuracy:17.386\n",
      "Epoch[42/50],Accuracy:14.294\n",
      "Epoch[43/50],Accuracy:19.337\n",
      "Epoch[44/50],Accuracy:15.366\n",
      "Epoch[45/50],Accuracy:13.36\n",
      "Epoch[46/50],Accuracy:15.938\n",
      "Epoch[47/50],Accuracy:13.388\n",
      "Epoch[48/50],Accuracy:14.266\n",
      "Epoch[49/50],Accuracy:17.888\n",
      "Epoch[50/50],Accuracy:15.408\n"
     ]
    }
   ],
   "source": [
    "for epoch in range(50):\n",
    "    model.train()\n",
    "    for images,labels in train_loader:\n",
    "        images,labels = images.to(device),labels.to(device)\n",
    "        \n",
    "        outputs = model(images)\n",
    "        loss = criterion(outputs,labels)\n",
    "\n",
    "        optimizer.zero_grad()\n",
    "        loss.backward()\n",
    "        optimizer.step()\n",
    "    \n",
    "    model.eval()\n",
    "    correct  = 0\n",
    "    total = 0\n",
    "    with torch.no_grad():\n",
    "        for images,labels in test_loader:\n",
    "            images,labels = images.to(device),labels.to(device)\n",
    "\n",
    "            outputs = model(images)\n",
    "            _,predicted = torch.max(outputs.data,1)\n",
    "\n",
    "            total = total+labels.size(0)\n",
    "            correct += (predicted == labels).sum().item()\n",
    "    \n",
    "    accuracy = 100*correct/total\n",
    "    print(f'Epoch[{epoch+1}/50],Accuracy:{accuracy:.5}')\n",
    "\n",
    "\n",
    "\n",
    "# Why the accuracy is so small??\n"
   ]
  },
  {
   "cell_type": "code",
   "execution_count": null,
   "metadata": {},
   "outputs": [],
   "source": []
  }
 ],
 "metadata": {
  "kernelspec": {
   "display_name": "base",
   "language": "python",
   "name": "python3"
  },
  "language_info": {
   "codemirror_mode": {
    "name": "ipython",
    "version": 3
   },
   "file_extension": ".py",
   "mimetype": "text/x-python",
   "name": "python",
   "nbconvert_exporter": "python",
   "pygments_lexer": "ipython3",
   "version": "3.11.11"
  }
 },
 "nbformat": 4,
 "nbformat_minor": 2
}
