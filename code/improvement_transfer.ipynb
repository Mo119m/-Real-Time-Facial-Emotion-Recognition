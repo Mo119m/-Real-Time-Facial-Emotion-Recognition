{
 "cells": [
  {
   "cell_type": "code",
   "execution_count": 2,
   "metadata": {},
   "outputs": [],
   "source": [
    "import os\n",
    "import torch\n",
    "import torch.nn as nn\n",
    "from torch.utils.data import Dataset, DataLoader, WeightedRandomSampler\n",
    "from sklearn.preprocessing import LabelEncoder\n",
    "from sklearn.model_selection import KFold\n",
    "from transformers import AutoImageProcessor, AutoModelForImageClassification, AdamW\n",
    "from torchvision import transforms\n",
    "from PIL import Image\n",
    "from tqdm import tqdm\n",
    "import numpy as np\n",
    "\n",
    "model_name    = \"trpakov/vit-face-expression\"\n",
    "num_epochs    = 20\n",
    "batch_size    = 16\n",
    "learning_rate = 2e-5\n",
    "weight_decay  = 0.01\n",
    "num_folds     = 5\n",
    "random_seed   = 42\n",
    "\n",
    "device = torch.device(\"cuda\" if torch.cuda.is_available() else \"cpu\")\n",
    "torch.manual_seed(random_seed)\n",
    "np.random.seed(random_seed)\n",
    "\n"
   ]
  },
  {
   "cell_type": "code",
   "execution_count": 9,
   "metadata": {},
   "outputs": [],
   "source": [
    "def load_datasets(directory):\n",
    "    image_paths, labels = [], []\n",
    "    for lbl in os.listdir(directory):\n",
    "        lbl_dir = os.path.join(directory, lbl)\n",
    "        if not os.path.isdir(lbl_dir):\n",
    "            continue\n",
    "        for fname in os.listdir(lbl_dir):\n",
    "            image_paths.append(os.path.join(lbl_dir, fname))\n",
    "            labels.append(lbl)\n",
    "    return image_paths, labels\n",
    "\n",
    "train_dir = \"../data/train\"\n",
    "test_dir  = \"../data/test\"\n",
    "\n",
    "train_paths, train_labels = load_datasets(train_dir)\n",
    "test_paths,  test_labels  = load_datasets(test_dir)\n",
    "\n",
    "le      = LabelEncoder()\n",
    "y_train = le.fit_transform(train_labels)\n",
    "label_names = le.classes_\n",
    "\n",
    "# WeightedRandomSampler\n",
    "class_counts   = np.bincount(y_train)\n",
    "class_weights  = 1.0 / class_counts\n",
    "samples_weight = class_weights[y_train]\n",
    "base_sampler   = WeightedRandomSampler(\n",
    "    weights=samples_weight,\n",
    "    num_samples=len(samples_weight),\n",
    "    replacement=True\n",
    ")\n",
    "\n",
    "\n"
   ]
  },
  {
   "cell_type": "code",
   "execution_count": 10,
   "metadata": {},
   "outputs": [],
   "source": [
    "#resize + normalize\n",
    "processor = AutoImageProcessor.from_pretrained(model_name)\n",
    "img_size   = processor.size[\"height\"]\n",
    "\n",
    "# transform\n",
    "train_transform = transforms.Compose([\n",
    "    transforms.RandomResizedCrop(img_size, scale=(0.8,1.0)),\n",
    "    transforms.RandomHorizontalFlip(),\n",
    "    transforms.RandomRotation(10),\n",
    "    transforms.ColorJitter(brightness=0.2, contrast=0.2, saturation=0.2),\n",
    "])\n",
    "val_transform = transforms.Compose([\n",
    "    transforms.Resize(img_size),\n",
    "    transforms.CenterCrop(img_size),\n",
    "])\n",
    "\n",
    "class FERDataset(Dataset):\n",
    "    def __init__(self, paths, labels, processor, transform=None):\n",
    "        self.paths     = paths\n",
    "        self.labels    = labels\n",
    "        self.processor = processor\n",
    "        self.transform = transform\n",
    "\n",
    "    def __len__(self):\n",
    "        return len(self.paths)\n",
    "\n",
    "    def __getitem__(self, idx):\n",
    "        img = Image.open(self.paths[idx]).convert(\"RGB\")\n",
    "        if self.transform:\n",
    "            img = self.transform(img)\n",
    "        pv = self.processor(images=img, return_tensors=\"pt\")[\"pixel_values\"].squeeze(0)\n",
    "        return pv, self.labels[idx]\n",
    "\n"
   ]
  },
  {
   "cell_type": "code",
   "execution_count": 11,
   "metadata": {},
   "outputs": [
    {
     "name": "stdout",
     "output_type": "stream",
     "text": [
      "=== Fold 1/5 ===\n",
      "=== Fold 2/5 ===\n",
      "=== Fold 3/5 ===\n",
      "=== Fold 4/5 ===\n",
      "=== Fold 5/5 ===\n"
     ]
    }
   ],
   "source": [
    "kf   = KFold(n_splits=num_folds, shuffle=True, random_state=random_seed)\n",
    "fold = 0\n",
    "\n",
    "for train_idx, val_idx in kf.split(train_paths):\n",
    "    fold += 1\n",
    "    print(f\"Fold {fold}/{num_folds}\")\n",
    "\n",
    "    tr_paths  = [train_paths[i] for i in train_idx]\n",
    "    tr_labels = [y_train[i]     for i in train_idx]\n",
    "    vl_paths  = [train_paths[i] for i in val_idx]\n",
    "    vl_labels = [y_train[i]     for i in val_idx]\n",
    "\n",
    "    fold_counts  = np.bincount(tr_labels)\n",
    "    fold_wts     = 1.0 / fold_counts\n",
    "    fold_sw      = fold_wts[np.array(tr_labels)]\n",
    "    fold_sampler = WeightedRandomSampler(\n",
    "        weights=fold_sw,\n",
    "        num_samples=len(fold_sw),\n",
    "        replacement=True\n",
    "    )\n",
    "\n",
    "    train_ds = FERDataset(tr_paths, tr_labels, processor, transform=train_transform)\n",
    "    val_ds   = FERDataset(vl_paths, vl_labels, processor, transform=val_transform)\n",
    "\n",
    "    train_loader = DataLoader(\n",
    "        train_ds,\n",
    "        batch_size=batch_size,\n",
    "        sampler=fold_sampler,\n",
    "        num_workers=0,\n",
    "        pin_memory=True\n",
    "    )\n",
    "    val_loader = DataLoader(\n",
    "        val_ds,\n",
    "        batch_size=batch_size,\n",
    "        shuffle=False,\n",
    "        num_workers=0,\n",
    "        pin_memory=True\n",
    "    )\n",
    "\n"
   ]
  },
  {
   "cell_type": "code",
   "execution_count": 12,
   "metadata": {},
   "outputs": [
    {
     "name": "stderr",
     "output_type": "stream",
     "text": [
      "/Users/mo/anaconda3/lib/python3.11/site-packages/transformers/optimization.py:640: FutureWarning: This implementation of AdamW is deprecated and will be removed in a future version. Use the PyTorch implementation torch.optim.AdamW instead, or set `no_deprecation_warning=True` to disable this warning\n",
      "  warnings.warn(\n"
     ]
    }
   ],
   "source": [
    "    # freeze the body param\n",
    "    model = AutoModelForImageClassification.from_pretrained(model_name)\n",
    "    for param in model.vit.parameters():\n",
    "        param.requires_grad = False\n",
    "    # dropout\n",
    "    model.config.classifier_dropout = 0.3\n",
    "    model.classifier = nn.Sequential(\n",
    "        nn.Dropout(model.config.classifier_dropout),\n",
    "        model.classifier\n",
    "    )\n",
    "    model.to(device)\n",
    "\n",
    "    optimizer = AdamW(\n",
    "        model.parameters(),\n",
    "        lr=learning_rate,\n",
    "        weight_decay=weight_decay\n",
    "    )\n",
    "\n",
    "    criterion = nn.CrossEntropyLoss(label_smoothing=0.1)\n",
    "\n"
   ]
  },
  {
   "cell_type": "code",
   "execution_count": 8,
   "metadata": {},
   "outputs": [
    {
     "name": "stderr",
     "output_type": "stream",
     "text": [
      "[Fold 5] Epoch 1 Train: 100%|██████████| 1436/1436 [17:11<00:00,  1.39it/s]\n",
      "[Fold 5] Epoch 1 Val: 100%|██████████| 359/359 [04:14<00:00,  1.41it/s]\n"
     ]
    },
    {
     "name": "stdout",
     "output_type": "stream",
     "text": [
      "[Fold 5] Epoch 1 → Train Acc: 0.7319, Val Acc: 0.9875\n"
     ]
    },
    {
     "name": "stderr",
     "output_type": "stream",
     "text": [
      "[Fold 5] Epoch 2 Train: 100%|██████████| 1436/1436 [16:34<00:00,  1.44it/s]\n",
      "[Fold 5] Epoch 2 Val: 100%|██████████| 359/359 [04:10<00:00,  1.43it/s]\n"
     ]
    },
    {
     "name": "stdout",
     "output_type": "stream",
     "text": [
      "[Fold 5] Epoch 2 → Train Acc: 0.7506, Val Acc: 0.9866\n"
     ]
    },
    {
     "name": "stderr",
     "output_type": "stream",
     "text": [
      "[Fold 5] Epoch 3 Train: 100%|██████████| 1436/1436 [17:08<00:00,  1.40it/s]\n",
      "[Fold 5] Epoch 3 Val: 100%|██████████| 359/359 [04:22<00:00,  1.37it/s]\n"
     ]
    },
    {
     "name": "stdout",
     "output_type": "stream",
     "text": [
      "[Fold 5] Epoch 3 → Train Acc: 0.7531, Val Acc: 0.9869\n"
     ]
    },
    {
     "name": "stderr",
     "output_type": "stream",
     "text": [
      "[Fold 5] Epoch 4 Train: 100%|██████████| 1436/1436 [17:43<00:00,  1.35it/s]\n",
      "[Fold 5] Epoch 4 Val: 100%|██████████| 359/359 [03:58<00:00,  1.50it/s]\n"
     ]
    },
    {
     "name": "stdout",
     "output_type": "stream",
     "text": [
      "[Fold 5] Epoch 4 → Train Acc: 0.7544, Val Acc: 0.9869\n"
     ]
    },
    {
     "name": "stderr",
     "output_type": "stream",
     "text": [
      "[Fold 5] Epoch 5 Train: 100%|██████████| 1436/1436 [1:03:27<00:00,  2.65s/it] \n",
      "[Fold 5] Epoch 5 Val: 100%|██████████| 359/359 [04:15<00:00,  1.41it/s]\n"
     ]
    },
    {
     "name": "stdout",
     "output_type": "stream",
     "text": [
      "[Fold 5] Epoch 5 → Train Acc: 0.7601, Val Acc: 0.9869\n"
     ]
    },
    {
     "name": "stderr",
     "output_type": "stream",
     "text": [
      "[Fold 5] Epoch 6 Train: 100%|██████████| 1436/1436 [17:03<00:00,  1.40it/s]\n",
      "[Fold 5] Epoch 6 Val: 100%|██████████| 359/359 [04:09<00:00,  1.44it/s]\n"
     ]
    },
    {
     "name": "stdout",
     "output_type": "stream",
     "text": [
      "[Fold 5] Epoch 6 → Train Acc: 0.7578, Val Acc: 0.9866\n"
     ]
    },
    {
     "name": "stderr",
     "output_type": "stream",
     "text": [
      "[Fold 5] Epoch 7 Train:  10%|█         | 148/1436 [01:53<15:17,  1.40it/s]"
     ]
    }
   ],
   "source": [
    "    for epoch in range(1, num_epochs+1):\n",
    "        # train\n",
    "        model.train()\n",
    "        train_corr = train_tot = 0\n",
    "        for imgs, lbls in tqdm(train_loader, desc=f\"[Fold {fold}] Epoch {epoch} Train\"):\n",
    "            imgs, lbls = imgs.to(device), lbls.to(device)\n",
    "            outputs    = model(pixel_values=imgs).logits\n",
    "            loss       = criterion(outputs, lbls)\n",
    "            loss.backward()\n",
    "\n",
    "            # gradient cut\n",
    "            torch.nn.utils.clip_grad_norm_(model.parameters(), max_norm=1.0)\n",
    "\n",
    "            optimizer.step()\n",
    "            optimizer.zero_grad()\n",
    "\n",
    "            preds      = outputs.argmax(dim=1)\n",
    "            train_corr += (preds == lbls).sum().item()\n",
    "            train_tot  += lbls.size(0)\n",
    "\n",
    "        train_acc = train_corr / train_tot\n",
    "\n",
    "        # val\n",
    "        model.eval()\n",
    "        val_corr = val_tot = 0\n",
    "        val_loss = 0.0\n",
    "        with torch.no_grad():\n",
    "            for imgs, lbls in tqdm(val_loader, desc=f\"[Fold {fold}] Epoch {epoch} Val\"):\n",
    "                imgs, lbls  = imgs.to(device), lbls.to(device)\n",
    "                outs        = model(pixel_values=imgs).logits\n",
    "                loss_v      = criterion(outs, lbls)\n",
    "                val_loss   += loss_v.item()\n",
    "\n",
    "                preds_v     = outs.argmax(dim=1)\n",
    "                val_corr   += (preds_v == lbls).sum().item()\n",
    "                val_tot    += lbls.size(0)\n",
    "\n",
    "        val_acc = val_corr / val_tot\n",
    "        val_loss /= len(val_loader)\n",
    "\n",
    "        print(f\"[Fold {fold}] Epoch {epoch}\"\n",
    "              f\"Train Acc: {train_acc:.4f}, Val Acc: {val_acc:.4f}\")\n",
    "\n",
    "\n",
    "    "
   ]
  }
 ],
 "metadata": {
  "kernelspec": {
   "display_name": "base",
   "language": "python",
   "name": "python3"
  },
  "language_info": {
   "codemirror_mode": {
    "name": "ipython",
    "version": 3
   },
   "file_extension": ".py",
   "mimetype": "text/x-python",
   "name": "python",
   "nbconvert_exporter": "python",
   "pygments_lexer": "ipython3",
   "version": "3.11.11"
  }
 },
 "nbformat": 4,
 "nbformat_minor": 2
}
